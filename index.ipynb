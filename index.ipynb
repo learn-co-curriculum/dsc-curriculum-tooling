{
 "cells": [
  {
   "cell_type": "markdown",
   "id": "3fdfe8b9",
   "metadata": {},
   "source": [
    "# DS Curriculum Tooling\n",
    "\n",
    "On the DS curriculum team, we write most of the curriculum in Jupyter Notebook files (files ending in `.ipynb` extensions).\n",
    "\n",
    "Jupyter Notebook files are composed of Markdown as well as Python code.\n",
    "\n",
    "## Markdown Examples\n",
    "\n",
    "Here are some Markdown examples:\n",
    "\n",
    "## Markdown H2\n",
    "\n",
    "### Markdown H3\n",
    "\n",
    "Here is some inline code written in Markdown: `x = 2 + 3`\n",
    "\n",
    "and block code that is in a Markdown cell, so it isn't actually executable:\n",
    "\n",
    "```sql\n",
    "SELECT * FROM employees;\n",
    "```\n",
    "\n",
    "There is also **bold** and *italics* and ***both bold and italics***\n",
    "\n",
    "## Python Examples\n",
    "\n",
    "Here are some Python examples:\n",
    "\n",
    "You can run one line at a time:"
   ]
  },
  {
   "cell_type": "code",
   "execution_count": 1,
   "id": "954b65cd",
   "metadata": {},
   "outputs": [],
   "source": [
    "y = 3 + 4"
   ]
  },
  {
   "cell_type": "markdown",
   "id": "a77ae059",
   "metadata": {},
   "source": [
    "If you only type an expression without assigning to anything, you see the result of the expression echoed, just like in a REPL:"
   ]
  },
  {
   "cell_type": "code",
   "execution_count": 2,
   "id": "da55e75c",
   "metadata": {},
   "outputs": [
    {
     "data": {
      "text/plain": [
       "7"
      ]
     },
     "execution_count": 2,
     "metadata": {},
     "output_type": "execute_result"
    }
   ],
   "source": [
    "y"
   ]
  },
  {
   "cell_type": "markdown",
   "id": "8970ab06",
   "metadata": {},
   "source": [
    "You can also see print output. In the context of a notebook or HTML, there is no \"Out\" line for print statements like there is with the result of an expression being echoed. In Markdown there is no difference."
   ]
  },
  {
   "cell_type": "code",
   "execution_count": 3,
   "id": "4adaf62c",
   "metadata": {},
   "outputs": [
    {
     "name": "stdout",
     "output_type": "stream",
     "text": [
      "Hello, world!\n"
     ]
    }
   ],
   "source": [
    "print(\"Hello, world!\")"
   ]
  },
  {
   "cell_type": "markdown",
   "id": "2ef4b2fd",
   "metadata": {},
   "source": [
    "Or you can have multiple lines in the same Python cell:"
   ]
  },
  {
   "cell_type": "code",
   "execution_count": 4,
   "id": "9e4b3f7c",
   "metadata": {},
   "outputs": [
    {
     "data": {
      "text/plain": [
       "[3, 10, 2, 5, 2, 8, 8, 8, 7, 4, 2, 8, 1, 7, 7, 10, 1, 8, 5, 4]"
      ]
     },
     "execution_count": 4,
     "metadata": {},
     "output_type": "execute_result"
    }
   ],
   "source": [
    "import random\n",
    "random.seed(1)\n",
    "numbers = [random.randrange(1, 11) for x in range(20)]\n",
    "numbers"
   ]
  },
  {
   "cell_type": "markdown",
   "id": "4f38e89e",
   "metadata": {},
   "source": [
    "If the code produces an image output, it will appear inline in the notebook (`.ipynb`). In order for it to appear in the exported version, you need to make sure you have the relevant images exported also."
   ]
  },
  {
   "cell_type": "code",
   "execution_count": 5,
   "id": "bbf6b065",
   "metadata": {},
   "outputs": [
    {
     "data": {
      "image/png": "[encoded data removed]",
      "text/plain": [
       "<Figure size 432x288 with 1 Axes>"
      ]
     },
     "metadata": {
      "needs_background": "light"
     },
     "output_type": "display_data"
    }
   ],
   "source": [
    "import matplotlib.pyplot as plt\n",
    "\n",
    "fig, ax = plt.subplots()\n",
    "\n",
    "ax.plot(numbers)\n",
    "ax.set_title(\"Example Line Plot\");"
   ]
  },
  {
   "cell_type": "markdown",
   "id": "d49d1452",
   "metadata": {},
   "source": [
    "## Tools Needed\n",
    "\n",
    "The notebook (`.ipynb` file) is created and edited using Jupyter Notebook. You can play around with a browser-based notebook [here](https://jupyter.org/try). (We use Classic Notebook but you could also try Jupyter Lab.)\n",
    "\n",
    "The easiest way to get a local Jupyter Notebook setup is using [Anaconda](https://docs.anaconda.com/anaconda/install/). There is also a graphical interface called [Anaconda Navigator](https://docs.anaconda.com/anaconda/navigator/getting-started/) that is easier to deal with than the pure CLI version (which can sometimes run into issues with `~/.bash_profile` settings, etc.)\n",
    "\n",
    "DS students use Jupyter Notebook files directly, using a cloud platform called IllumiDesk or on their local machines (cloning content stored on GitHub). But you can also use various tools to export the notebook content for other formats.\n",
    "\n",
    "The [`nbconvert` tool](https://nbconvert.readthedocs.io/en/latest/index.html) can convert a notebook to Markdown as well as HTML and PDF. (PDF requires additional dependencies.)\n",
    "\n",
    "### Exporting Notebooks to Markdown\n",
    "\n",
    "Markdown is a convenient export format because it's very clean and simple, but it loses some information. The file `index.md` was created from `index.ipynb` using this command in the terminal:\n",
    "\n",
    "```bash\n",
    "jupyter nbconvert --to markdown index.ipynb`\n",
    "```\n",
    "\n",
    "This also creates a directory called `index_files` containing any images generated in the notebook.\n",
    "\n",
    "### Exporting Notebooks to HTML\n",
    "\n",
    "HTML has a lot more style information that can be contained in it. The file `index.html` was created from `index.ipynb` using this command in the terminal:\n",
    "\n",
    "```bash\n",
    "jupyter nbconvert --to html --template basic index.ipynb\n",
    "```\n",
    "\n",
    "The default behavior is to create a giant file with a lot of CSS, so I think you probably want to use the `--template basic` option, but it's optional."
   ]
  }
 ],
 "metadata": {
  "kernelspec": {
   "display_name": "Python (learn-env)",
   "language": "python",
   "name": "learn-env"
  },
  "language_info": {
   "codemirror_mode": {
    "name": "ipython",
    "version": 3
   },
   "file_extension": ".py",
   "mimetype": "text/x-python",
   "name": "python",
   "nbconvert_exporter": "python",
   "pygments_lexer": "ipython3",
   "version": "3.8.5"
  }
 },
 "nbformat": 4,
 "nbformat_minor": 5
}
